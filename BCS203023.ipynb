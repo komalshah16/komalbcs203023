{
  "nbformat": 4,
  "nbformat_minor": 0,
  "metadata": {
    "colab": {
      "provenance": [],
      "authorship_tag": "ABX9TyNWempxfx0vkdvXlcsHU7Q5",
      "include_colab_link": true
    },
    "kernelspec": {
      "name": "python3",
      "display_name": "Python 3"
    },
    "language_info": {
      "name": "python"
    }
  },
  "cells": [
    {
      "cell_type": "markdown",
      "metadata": {
        "id": "view-in-github",
        "colab_type": "text"
      },
      "source": [
        "<a href=\"https://colab.research.google.com/github/komalshah16/komalbcs203023/blob/main/BCS203023.ipynb\" target=\"_parent\"><img src=\"https://colab.research.google.com/assets/colab-badge.svg\" alt=\"Open In Colab\"/></a>"
      ]
    },
    {
      "cell_type": "markdown",
      "source": [
        "#LIBRARIES USED"
      ],
      "metadata": {
        "id": "OnAjwixQGRaW"
      }
    },
    {
      "cell_type": "code",
      "source": [
        "import requests\n",
        "import json\n",
        "import tkinter as tk\n",
        "from tkinter import ttk\n",
        "root = tk.Tk()\n",
        "root.title(\"Currency Converter\")"
      ],
      "metadata": {
        "id": "8PD57RDXGVIg"
      },
      "execution_count": null,
      "outputs": []
    },
    {
      "cell_type": "markdown",
      "source": [
        "#LABELS AND DROPDWON MENUS FOR THE USER"
      ],
      "metadata": {
        "id": "2aIzxJdoGXxQ"
      }
    },
    {
      "cell_type": "code",
      "source": [
        "from_currency_label = tk.Label(root, text=\"From Currency\")\n",
        "from_currency_label.grid(row=0, column=0, padx=10, pady=10)\n",
        "from_currency_combobox = ttk.Combobox(root, width=20, state=\"readonly\")\n",
        "from_currency_combobox.grid(row=0, column=1, padx=10, pady=10)"
      ],
      "metadata": {
        "id": "zDQEyUkQGakd"
      },
      "execution_count": null,
      "outputs": []
    },
    {
      "cell_type": "markdown",
      "source": [
        "#TO CURRENCY THE USER WANT"
      ],
      "metadata": {
        "id": "5zbNiavjGcyJ"
      }
    },
    {
      "cell_type": "code",
      "source": [
        "to_currency_label = tk.Label(root, text=\"To Currency\")\n",
        "to_currency_label.grid(row=1, column=0, padx=10, pady=10)\n",
        "to_currency_combobox = ttk.Combobox(root, width=20, state=\"readonly\")\n",
        "to_currency_combobox.grid(row=1, column=1, padx=10, pady=10)"
      ],
      "metadata": {
        "id": "jBzj8XFSGe1T"
      },
      "execution_count": null,
      "outputs": []
    },
    {
      "cell_type": "markdown",
      "source": [
        "#AMOUNT TO BE CONVERTED"
      ],
      "metadata": {
        "id": "Pl-93vMfGi84"
      }
    },
    {
      "cell_type": "code",
      "source": [
        "amount_label = tk.Label(root, text=\"Amount\")\n",
        "amount_label.grid(row=2, column=0, padx=10, pady=10)\n",
        "amount_entry = tk.Entry(root)\n",
        "amount_entry.grid(row=2, column=1, padx=10, pady=10)"
      ],
      "metadata": {
        "id": "fp-iz9DUGk2O"
      },
      "execution_count": null,
      "outputs": []
    },
    {
      "cell_type": "markdown",
      "source": [
        "#CONVERTED AMOUNT"
      ],
      "metadata": {
        "id": "He86X9D5Gm0I"
      }
    },
    {
      "cell_type": "code",
      "source": [
        "converted_amount_label = tk.Label(root, text=\"Converted Amount\")\n",
        "converted_amount_label.grid(row=3, column=0, padx=10, pady=10)\n",
        "converted_amount_value_label = tk.Label(root, text=\"\")\n",
        "converted_amount_value_label.grid(row=3, column=1, padx=10, pady=10)\n"
      ],
      "metadata": {
        "id": "ePDG8FOGGqKl"
      },
      "execution_count": null,
      "outputs": []
    },
    {
      "cell_type": "markdown",
      "source": [
        "#CREATE THE CONVERT BUTTON FROM ONE CURRENCY TO ANOTHER"
      ],
      "metadata": {
        "id": "E6tCPS3wGslW"
      }
    },
    {
      "cell_type": "code",
      "source": [
        "def convert():\n",
        "    app_id = \"013032b5ab484713a9978b55fc8082c7\"\n",
        "    amount = amount_entry.get()\n",
        "    from_currency = from_currency_combobox.get()\n",
        "    to_currency = to_currency_combobox.get()\n",
        "    url = f\"https://openexchangerates.org/api/latest.json?app_id={app_id}\"\n",
        "    response = requests.get(url)\n",
        "    if response.status_code != 200:\n",
        "        # API call was not successful, handle the error\n",
        "        converted_amount_value_label.config(text=\"Error: API call failed\")\n",
        "        return\n",
        "    data = json.loads(response.text)\n",
        "    if \"rates\" not in data:\n",
        "        # API response does not contain expected data, handle the error\n",
        "        converted_amount_value_label.config(text=\"Error: API response format is not valid\")\n",
        "        return\n",
        "    to = data[\"rates\"][from_currency]\n",
        "    exchange_rate = data[\"rates\"][to_currency]\n",
        "    converted_amount_value_label.config(text=f\"{exchange_rate/to * float(amount):.2f}\")\n",
        "\n",
        "convert_button = tk.Button(root, text=\"Convert\", command=convert)\n",
        "convert_button.grid(row=4, column=0, padx=10, pady=10)"
      ],
      "metadata": {
        "id": "Sl_A7qaxGvsr"
      },
      "execution_count": null,
      "outputs": []
    },
    {
      "cell_type": "markdown",
      "source": [
        "#CODE FOR THE RESET BUTTON TO INITIALIZE IT WITH 0 AGAIN"
      ],
      "metadata": {
        "id": "l9fdCN5NGyP4"
      }
    },
    {
      "cell_type": "code",
      "source": [
        "def reset():\n",
        "    from_currency_combobox.set(\"\")\n",
        "    to_currency_combobox.set(\"\")\n",
        "    amount_entry.delete(0, tk.END)\n",
        "    converted_amount_value_label.config(text=\"\")\n",
        "\n",
        "reset_button = tk.Button(root, text=\"Reset\", command=reset)\n",
        "reset_button.grid(row=4, column=1, padx=10, pady=10)\n"
      ],
      "metadata": {
        "id": "6bEEyV_WG0Hj"
      },
      "execution_count": null,
      "outputs": []
    },
    {
      "cell_type": "markdown",
      "source": [
        "#URL OF CURRENCY WEBSITE"
      ],
      "metadata": {
        "id": "jgw1PUJ7G3tN"
      }
    },
    {
      "cell_type": "code",
      "source": [
        "url = \"https://openexchangerates.org/api/currencies.json\"\n",
        "response = requests.get(url)\n",
        "data = json.loads(response.text)\n",
        "currencies = list(data.keys())\n",
        "from_currency_combobox[\"values\"] = currencies\n",
        "to_currency_combobox[\"values\"] = currencies\n",
        "\n",
        "root.mainloop()"
      ],
      "metadata": {
        "id": "cBqQrY1aG53o"
      },
      "execution_count": null,
      "outputs": []
    }
  ]
}